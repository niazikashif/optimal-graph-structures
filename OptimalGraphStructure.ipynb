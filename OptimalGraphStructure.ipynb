{
 "cells": [
  {
   "cell_type": "markdown",
   "id": "af19e1d0",
   "metadata": {},
   "source": [
    "# Muhammad Kashif Niazi\n",
    "# i19-0640\n",
    "# Assignment 01"
   ]
  },
  {
   "cell_type": "markdown",
   "id": "b534bf2b",
   "metadata": {},
   "source": [
    "# Code Testing"
   ]
  },
  {
   "cell_type": "markdown",
   "id": "e6c5c2b7",
   "metadata": {},
   "source": [
    "## Exploring Data"
   ]
  },
  {
   "cell_type": "markdown",
   "id": "adb6e39c",
   "metadata": {},
   "source": [
    "### Self Understanding\n",
    "#### Goto Final Code Block for Solution to the Assignment"
   ]
  },
  {
   "cell_type": "code",
   "execution_count": 1,
   "id": "b22fa3a0",
   "metadata": {},
   "outputs": [],
   "source": [
    "from collections import defaultdict"
   ]
  },
  {
   "cell_type": "code",
   "execution_count": 2,
   "id": "6e958347",
   "metadata": {},
   "outputs": [
    {
     "data": {
      "text/plain": [
       "'1,{},153.466\\n1,{3},96.093\\n1,{4},97.913\\n1,{5},99.835\\n2,{},141.023\\n2,{3},122.446\\n2,{4},121.576\\n2,{5},123.398\\n3,{},169.482\\n3,{1},112.109\\n3,{2},150.906\\n3,{1,2},107.516\\n3,{4},51.681\\n3,{5},41.775\\n4,{},169.482\\n4,{1},113.929\\n4,{2},150.036\\n4,{1,2},108.982\\n4,{3},51.681\\n4,{5},36.188\\n5,{},169.802\\n5,{1},116.171\\n5,{2},152.178\\n5,{1,2},111.473\\n5,{3},42.096\\n5,{4},36.508\\n'"
      ]
     },
     "execution_count": 2,
     "metadata": {},
     "output_type": "execute_result"
    }
   ],
   "source": [
    "f = open(\"data0.txt\",'r')\n",
    "data0=f.read()\n",
    "data0"
   ]
  },
  {
   "cell_type": "code",
   "execution_count": 3,
   "id": "583f1bad",
   "metadata": {},
   "outputs": [
    {
     "name": "stdout",
     "output_type": "stream",
     "text": [
      "1  ->  1  edge weight:  153.466\n",
      "1  ->  3  edge weight:  112.109\n",
      "1  ->  4  edge weight:  113.929\n",
      "1  ->  5  edge weight:  116.171\n",
      "3  ->  1  edge weight:  96.093\n",
      "3  ->  2  edge weight:  122.446\n",
      "3  ->  3  edge weight:  169.482\n",
      "3  ->  4  edge weight:  51.681\n",
      "3  ->  5  edge weight:  42.096\n",
      "4  ->  1  edge weight:  97.913\n",
      "4  ->  2  edge weight:  121.576\n",
      "4  ->  3  edge weight:  51.681\n",
      "4  ->  4  edge weight:  169.482\n",
      "4  ->  5  edge weight:  36.508\n",
      "5  ->  1  edge weight:  99.835\n",
      "5  ->  2  edge weight:  123.398\n",
      "5  ->  3  edge weight:  41.775\n",
      "5  ->  4  edge weight:  36.188\n",
      "5  ->  5  edge weight:  169.802\n",
      "2  ->  2  edge weight:  141.023\n",
      "2  ->  3  edge weight:  150.906\n",
      "2  ->  4  edge weight:  150.036\n",
      "2  ->  5  edge weight:  152.178\n",
      "1,2  ->  3  edge weight:  107.516\n",
      "1,2  ->  4  edge weight:  108.982\n",
      "1,2  ->  5  edge weight:  111.473\n",
      "Internal representation: \n",
      "1 => [['1', 153.466], ['3', 112.109], ['4', 113.929], ['5', 116.171]]\n",
      "3 => [['1', 96.093], ['2', 122.446], ['3', 169.482], ['4', 51.681], ['5', 42.096]]\n",
      "4 => [['1', 97.913], ['2', 121.576], ['3', 51.681], ['4', 169.482], ['5', 36.508]]\n",
      "5 => [['1', 99.835], ['2', 123.398], ['3', 41.775], ['4', 36.188], ['5', 169.802]]\n",
      "2 => [['2', 141.023], ['3', 150.906], ['4', 150.036], ['5', 152.178]]\n",
      "1,2 => [['3', 107.516], ['4', 108.982], ['5', 111.473]]\n"
     ]
    },
    {
     "data": {
      "text/plain": [
       "['1', '3', '4', '5', '2']"
      ]
     },
     "execution_count": 3,
     "metadata": {},
     "output_type": "execute_result"
    }
   ],
   "source": [
    "# Print the graph\n",
    "def print_graph(graph):\n",
    "    for vertex in graph:\n",
    "        for edges in graph[vertex]:\n",
    "            print(vertex, \" -> \", edges[0], \" edge weight: \", edges[1])\n",
    "\n",
    "graph = defaultdict(lambda:[])\n",
    "\n",
    "\n",
    "for i in data0.split('\\n'):\n",
    "    att  = i.replace(\"{\",\"\").replace(\"}\",\"\").split(\",\")\n",
    "    node = att[0]\n",
    "    if node == '':\n",
    "        continue\n",
    "    parents = ','.join(att[1:-1])\n",
    "    cost = att[-1]\n",
    "    \n",
    "    if parents == '':\n",
    "        graph[node].append([node, float(cost)])\n",
    "    else:\n",
    "        graph[parents].append([node, float(cost)])\n",
    "\n",
    "print_graph(graph)\n",
    "nodes = []\n",
    "for key, value in graph.items():\n",
    "    if ',' not in key:\n",
    "        nodes.append(key)\n",
    "\n",
    "# Reminder: the second element of each list inside the dictionary\n",
    "# denotes the edge weight.\n",
    "print (\"Internal representation: \")\n",
    "for key, value in graph.items():\n",
    "    print(key,\"=>\", value)\n",
    "nodes"
   ]
  },
  {
   "cell_type": "code",
   "execution_count": 4,
   "id": "f816b8b9",
   "metadata": {
    "scrolled": false
   },
   "outputs": [
    {
     "data": {
      "text/plain": [
       "[('5', '4', 36.188),\n",
       " ('4', '5', 36.508),\n",
       " ('5', '3', 41.775),\n",
       " ('3', '5', 42.096),\n",
       " ('3', '4', 51.681),\n",
       " ('4', '3', 51.681),\n",
       " ('3', '1', 96.093),\n",
       " ('4', '1', 97.913),\n",
       " ('5', '1', 99.835),\n",
       " ('1,2', '3', 107.516),\n",
       " ('1,2', '4', 108.982),\n",
       " ('1,2', '5', 111.473),\n",
       " ('1', '3', 112.109),\n",
       " ('1', '4', 113.929),\n",
       " ('1', '5', 116.171),\n",
       " ('4', '2', 121.576),\n",
       " ('3', '2', 122.446),\n",
       " ('5', '2', 123.398),\n",
       " ('2', '2', 141.023),\n",
       " ('2', '4', 150.036),\n",
       " ('2', '3', 150.906),\n",
       " ('2', '5', 152.178),\n",
       " ('1', '1', 153.466),\n",
       " ('3', '3', 169.482),\n",
       " ('4', '4', 169.482),\n",
       " ('5', '5', 169.802)]"
      ]
     },
     "execution_count": 4,
     "metadata": {},
     "output_type": "execute_result"
    }
   ],
   "source": [
    "all_cost_list = []\n",
    "for key, value in graph.items():\n",
    "    for i in value:\n",
    "        all_cost_list.append((key, i[0], i[1]))\n",
    "all_cost_list.sort(key=lambda x:x[2])\n",
    "all_cost_list"
   ]
  },
  {
   "cell_type": "code",
   "execution_count": 5,
   "id": "cc0f8eca",
   "metadata": {},
   "outputs": [],
   "source": [
    "# get cost from source to destination\n",
    "def get_cost(graph, src, dst):\n",
    "    for i in graph[src]:\n",
    "        if i[0] == dst:\n",
    "            return i[1]\n",
    "    if ',' in src:\n",
    "        return 9999\n",
    "    for i in graph[dst]:\n",
    "        if i[0] == dst:\n",
    "            return i[1]\n",
    "\n",
    "# get cost of the order/path\n",
    "# x = order\n",
    "def get_cost_path(graph, x):\n",
    "    cost = get_cost(graph, x[0], x[0])\n",
    "    for i in range(len(x)-1):\n",
    "        curr_cost = [get_cost(graph, x[0], x[0])]\n",
    "        # get all individual previous paths \n",
    "        for j in x[:i+1]:\n",
    "            curr_cost.append(get_cost(graph, j, x[i+1]))\n",
    "        \n",
    "        # get all multiple previous parents path\n",
    "        for j in range(i + 1):\n",
    "            prev = ','.join(x[0:i+j])\n",
    "            curr_cost.append(get_cost(graph, prev, x[i+1]))\n",
    "            \n",
    "        curr_cost = min(curr_cost)\n",
    "        cost += curr_cost\n",
    "    return round(cost, 3)"
   ]
  },
  {
   "cell_type": "code",
   "execution_count": 6,
   "id": "7b85a26c",
   "metadata": {},
   "outputs": [],
   "source": [
    "from itertools import permutations\n",
    "from tqdm import tqdm\n",
    "import math  \n",
    "\n",
    "def get_min_cost_from_list(all_cost_list, current_order, dest):\n",
    "    for i in all_cost_list:\n",
    "        if i[0] in current_order and i[1] == dest:\n",
    "            return i[2]\n",
    "    for i in all_cost_list:\n",
    "        if i[0] == dest and i[1] == dest:\n",
    "            return i[2]\n",
    "    \n",
    "def get_starter(all_cost_list):\n",
    "    for i in all_cost_list:\n",
    "        if i[1] == i[0]:\n",
    "            return i[1]\n",
    "        \n",
    "def bfs(all_cost_list, nodes, current_order):\n",
    "    costs_list = []\n",
    "    for i in nodes:\n",
    "        if i not in current_order.split(\",\"):\n",
    "            #print((get_min_cost_from_list(all_cost_list, current_order, i), i, current_order))\n",
    "            costs_list.append((get_min_cost_from_list(all_cost_list, current_order, i), i))\n",
    "    costs_list.sort(key=lambda x:x[0])\n",
    "    #print(current_order, nodes, costs_list)\n",
    "    return costs_list[0][1]\n",
    "\n",
    "def ucs(all_cost_list, nodes, current_order):\n",
    "    costs_list = []\n",
    "    for i in nodes:\n",
    "        if i not in current_order.split(\",\"):\n",
    "            #print((get_min_cost_from_list(all_cost_list, current_order, i), i, current_order))\n",
    "            costs_list.append((get_min_cost_from_list(all_cost_list, current_order, i), i))\n",
    "    costs_list.sort(key=lambda x:x[0])\n",
    "    #print(current_order, nodes, costs_list)\n",
    "    return costs_list[0][1]\n",
    "\n",
    "\n",
    "\n",
    "def dfs(all_cost_list, nodes, current_order):\n",
    "    left_out_nodes = []\n",
    "    for i in nodes:\n",
    "        if i not in current_order.split(\",\"):\n",
    "            left_out_nodes.append(i)\n",
    "        \n",
    "    min_cost = 99999\n",
    "    min_path = 0\n",
    "    for i in tqdm(permutations(left_out_nodes), total=math.factorial(len(left_out_nodes))):\n",
    "        path = current_order + \",\".join(i)\n",
    "        cost = get_cost_path(graph, path.split(\",\"))\n",
    "        # print(path, cost)\n",
    "        if cost < min_cost:\n",
    "            min_cost = cost\n",
    "            min_path = path\n",
    "            \n",
    "    return path, cost\n",
    "    #costs_list.sort(key=lambda x:x[0])\n",
    "    #print(current_order, nodes, costs_list)\n",
    "    #return costs_list[0][1]\n",
    "\n"
   ]
  },
  {
   "cell_type": "code",
   "execution_count": 7,
   "id": "593267f0",
   "metadata": {},
   "outputs": [
    {
     "name": "stderr",
     "output_type": "stream",
     "text": [
      "100%|███████████████████████████████████████████████████████████████████████████████| 24/24 [00:00<00:00, 11998.01it/s]\n"
     ]
    },
    {
     "data": {
      "text/plain": [
       "('2,5,4,3,1', 456.102)"
      ]
     },
     "execution_count": 7,
     "metadata": {},
     "output_type": "execute_result"
    }
   ],
   "source": [
    "dfs(all_cost_list, nodes, \"2,\")"
   ]
  },
  {
   "cell_type": "code",
   "execution_count": 8,
   "id": "0397a3c0",
   "metadata": {},
   "outputs": [
    {
     "data": {
      "text/plain": [
       "'2'"
      ]
     },
     "execution_count": 8,
     "metadata": {},
     "output_type": "execute_result"
    }
   ],
   "source": [
    "get_starter(all_cost_list)"
   ]
  },
  {
   "cell_type": "code",
   "execution_count": 9,
   "id": "3fc40b7c",
   "metadata": {},
   "outputs": [
    {
     "name": "stderr",
     "output_type": "stream",
     "text": [
      "100%|███████████████████████████████████████████████████████████████████████████████| 24/24 [00:00<00:00, 23990.30it/s]\n"
     ]
    },
    {
     "data": {
      "text/plain": [
       "('2,5,4,3,1', 456.102)"
      ]
     },
     "execution_count": 9,
     "metadata": {},
     "output_type": "execute_result"
    }
   ],
   "source": [
    "dfs(all_cost_list, nodes, \"2,\")"
   ]
  },
  {
   "cell_type": "code",
   "execution_count": null,
   "id": "ec4dfdeb",
   "metadata": {},
   "outputs": [],
   "source": []
  },
  {
   "cell_type": "code",
   "execution_count": 10,
   "id": "ed9700c4",
   "metadata": {},
   "outputs": [
    {
     "name": "stdout",
     "output_type": "stream",
     "text": [
      "2,\n",
      "2,4,\n",
      "2,4,5,\n",
      "2,4,5,3,\n"
     ]
    },
    {
     "data": {
      "text/plain": [
       "'2,4,5,3,1'"
      ]
     },
     "execution_count": 10,
     "metadata": {},
     "output_type": "execute_result"
    }
   ],
   "source": [
    "order = get_starter(all_cost_list) + \",\"\n",
    "while len(order.split(\",\")) < len(nodes) + 1:\n",
    "    print(order)\n",
    "    order += bfs(all_cost_list, nodes, order) + \",\"\n",
    "order = order[:-1]\n",
    "order"
   ]
  },
  {
   "cell_type": "code",
   "execution_count": null,
   "id": "88da1471",
   "metadata": {},
   "outputs": [],
   "source": []
  },
  {
   "cell_type": "markdown",
   "id": "0341ae9c",
   "metadata": {},
   "source": [
    "# Muhammad Kashif Niazi\n",
    "## i19-0640\n",
    "## Assignment 01"
   ]
  },
  {
   "cell_type": "markdown",
   "id": "421f77e3",
   "metadata": {},
   "source": [
    "# Solution to given Problem"
   ]
  },
  {
   "cell_type": "markdown",
   "id": "9a181891",
   "metadata": {},
   "source": [
    "# Final Code Block"
   ]
  },
  {
   "cell_type": "markdown",
   "id": "2d8cea27",
   "metadata": {},
   "source": [
    "## Helper Functions"
   ]
  },
  {
   "cell_type": "code",
   "execution_count": 11,
   "id": "dd3251b6",
   "metadata": {},
   "outputs": [],
   "source": [
    "from collections import defaultdict\n",
    "from itertools import permutations\n",
    "from tqdm import tqdm\n",
    "import math \n",
    "\n",
    "# get cost from source to destination\n",
    "def get_cost(graph, src, dst):\n",
    "    for i in graph[src]:\n",
    "        if i[0] == dst:\n",
    "            return i[1]\n",
    "    if ',' in src:\n",
    "        return 9999\n",
    "    for i in graph[dst]:\n",
    "        if i[0] == dst:\n",
    "            return i[1]\n",
    "\n",
    "# get cost of the order/path\n",
    "# x = order\n",
    "def get_cost_path(graph, x):\n",
    "    cost = get_cost(graph, x[0], x[0])\n",
    "    for i in range(len(x)-1):\n",
    "        curr_cost = [get_cost(graph, x[0], x[0])]\n",
    "        # get all individual previous paths \n",
    "        for j in x[:i+1]:\n",
    "            curr_cost.append(get_cost(graph, j, x[i+1]))\n",
    "        \n",
    "        # get all multiple previous parents path\n",
    "        for j in range(i + 1):\n",
    "            prev = ','.join(x[0:i+j])\n",
    "            curr_cost.append(get_cost(graph, prev, x[i+1]))\n",
    "            \n",
    "        curr_cost = min(curr_cost)\n",
    "        cost += curr_cost\n",
    "    return round(cost, 3)\n",
    "\n",
    "\n",
    "# goes through the whole cost list and gets the minimum value for source and destination\n",
    "def get_min_cost_from_list(all_cost_list, current_order, dest):\n",
    "    for i in all_cost_list:\n",
    "        if i[0] in current_order and i[1] == dest:\n",
    "            return i[2]\n",
    "    for i in all_cost_list:\n",
    "        if i[0] == dest and i[1] == dest:\n",
    "            return i[2]\n",
    "\n",
    "# Gets the first node of the order from the all_cost_list, where src == dst\n",
    "def get_starter(all_cost_list):\n",
    "    for i in all_cost_list:\n",
    "        if i[1] == i[0]:\n",
    "            return i[1]"
   ]
  },
  {
   "cell_type": "markdown",
   "id": "a42e7da9",
   "metadata": {},
   "source": [
    "## Calling Functions"
   ]
  },
  {
   "cell_type": "markdown",
   "id": "e8c130b0",
   "metadata": {},
   "source": [
    "### BFS"
   ]
  },
  {
   "cell_type": "code",
   "execution_count": 12,
   "id": "ef6fca75",
   "metadata": {},
   "outputs": [],
   "source": [
    "# Loops over all nodes that are not in the current order forming combinations and adds the node with least cost (BFS)\n",
    "def bfs(all_cost_list, nodes, current_order):\n",
    "    costs_list = []\n",
    "    for i in nodes:\n",
    "        if i not in current_order.split(\",\"):\n",
    "            #print((get_min_cost_from_list(all_cost_list, current_order, i), i, current_order))\n",
    "            costs_list.append((get_min_cost_from_list(all_cost_list, current_order, i), i))\n",
    "    costs_list.sort(key=lambda x:x[0])\n",
    "    #print(current_order, nodes, costs_list)\n",
    "    return costs_list[0][1]"
   ]
  },
  {
   "cell_type": "markdown",
   "id": "2e9c490d",
   "metadata": {},
   "source": [
    "## UCS"
   ]
  },
  {
   "cell_type": "code",
   "execution_count": 13,
   "id": "987a349d",
   "metadata": {},
   "outputs": [],
   "source": [
    "# Loops over all nodes that are not in current order forming combinations and GREEDILY adds least cost node (UCS)\n",
    "def ucs(all_cost_list, nodes, current_order):\n",
    "    costs_list = []\n",
    "    for i in nodes:\n",
    "        if i not in current_order.split(\",\"):\n",
    "            costs_list.append((get_min_cost_from_list(all_cost_list, current_order, i), i))\n",
    "    costs_list.sort(key=lambda x:x[0])\n",
    "    return costs_list[0][1]"
   ]
  },
  {
   "cell_type": "markdown",
   "id": "da6b11b9",
   "metadata": {},
   "source": [
    "## DFS"
   ]
  },
  {
   "cell_type": "code",
   "execution_count": 14,
   "id": "7d8b698d",
   "metadata": {},
   "outputs": [],
   "source": [
    "# Loops over combinations of nodes that are not in current order and adds least cost combination (DFS)\n",
    "def dfs(graph, all_cost_list, nodes, current_order):\n",
    "    left_out_nodes = []\n",
    "    for i in nodes:\n",
    "        if i not in current_order.split(\",\"):\n",
    "            left_out_nodes.append(i)\n",
    "        \n",
    "    min_cost = 99999\n",
    "    min_path = 0\n",
    "    for i in tqdm(permutations(left_out_nodes), total=math.factorial(len(left_out_nodes))):\n",
    "        path = current_order + \",\".join(i)\n",
    "        cost = get_cost_path(graph, path.split(\",\"))\n",
    "        # print(path, cost)\n",
    "        if cost < min_cost:\n",
    "            min_cost = cost\n",
    "            min_path = path\n",
    "            \n",
    "    return path, cost"
   ]
  },
  {
   "cell_type": "markdown",
   "id": "d9177380",
   "metadata": {},
   "source": [
    "# Main Functions"
   ]
  },
  {
   "cell_type": "code",
   "execution_count": 15,
   "id": "d4d4d475",
   "metadata": {},
   "outputs": [],
   "source": [
    "# Main driver function that reads file, makes graph, gets nodes, makes all_cost_list, makes order with least cost and \n",
    "# return least order & cost \n",
    "def get_shortest_path_with_bfs(file):\n",
    "    f = open(file,'r')\n",
    "    data = f.read()\n",
    "    \n",
    "    graph = defaultdict(lambda:[])\n",
    "\n",
    "\n",
    "    for i in data.split('\\n'):\n",
    "        att  = i.replace(\"{\",\"\").replace(\"}\",\"\").split(\",\")\n",
    "        node = att[0]\n",
    "        if node == '':\n",
    "            continue\n",
    "        parents = ','.join(att[1:-1])\n",
    "        cost = att[-1]\n",
    "\n",
    "        if parents == '':\n",
    "            graph[node].append([node, float(cost)])\n",
    "        else:\n",
    "            graph[parents].append([node, float(cost)])\n",
    "\n",
    "    nodes = []\n",
    "    for key, value in graph.items():\n",
    "        if ',' not in key:\n",
    "            nodes.append(key)\n",
    "    all_cost_list = []\n",
    "    for key, value in graph.items():\n",
    "        #print(key,\"=>\", value)\n",
    "        for i in value:\n",
    "            all_cost_list.append((key, i[0], i[1]))\n",
    "    all_cost_list.sort(key=lambda x:x[2])\n",
    "    \n",
    "    \n",
    "    order = get_starter(all_cost_list) + \",\"\n",
    "    while len(order.split(\",\")) < len(nodes) + 1:\n",
    "        order += bfs(all_cost_list, nodes, order) + \",\"\n",
    "    order = order[:-1]\n",
    "    order = order.split(\",\")\n",
    "    \n",
    "    return order, get_cost_path(graph, order)\n",
    "\n",
    "# Main driver function that reads file, makes graph, gets nodes, makes all_cost_list, makes order with least cost and \n",
    "# return least order & cost \n",
    "def get_shortest_path_with_ucs(file):\n",
    "    f = open(file,'r')\n",
    "    data = f.read()\n",
    "    \n",
    "    graph = defaultdict(lambda:[])\n",
    "\n",
    "\n",
    "    for i in data.split('\\n'):\n",
    "        att  = i.replace(\"{\",\"\").replace(\"}\",\"\").split(\",\")\n",
    "        node = att[0]\n",
    "        if node == '':\n",
    "            continue\n",
    "        parents = ','.join(att[1:-1])\n",
    "        cost = att[-1]\n",
    "\n",
    "        if parents == '':\n",
    "            graph[node].append([node, float(cost)])\n",
    "        else:\n",
    "            graph[parents].append([node, float(cost)])\n",
    "\n",
    "    nodes = []\n",
    "    for key, value in graph.items():\n",
    "        if ',' not in key:\n",
    "            nodes.append(key)\n",
    "    all_cost_list = []\n",
    "    for key, value in graph.items():\n",
    "        #print(key,\"=>\", value)\n",
    "        for i in value:\n",
    "            all_cost_list.append((key, i[0], i[1]))\n",
    "    all_cost_list.sort(key=lambda x:x[2])\n",
    "    \n",
    "    \n",
    "    order = get_starter(all_cost_list) + \",\"\n",
    "    while len(order.split(\",\")) < len(nodes) + 1:\n",
    "        order += ucs(all_cost_list, nodes, order) + \",\"\n",
    "    order = order[:-1]\n",
    "    order = order.split(\",\")\n",
    "    \n",
    "    return order, get_cost_path(graph, order)\n",
    "\n",
    "\n",
    "def get_shortest_path_with_dfs(file):\n",
    "    f = open(file,'r')\n",
    "    data = f.read()\n",
    "    \n",
    "    graph = defaultdict(lambda:[])\n",
    "\n",
    "\n",
    "    for i in data.split('\\n'):\n",
    "        att  = i.replace(\"{\",\"\").replace(\"}\",\"\").split(\",\")\n",
    "        node = att[0]\n",
    "        if node == '':\n",
    "            continue\n",
    "        parents = ','.join(att[1:-1])\n",
    "        cost = att[-1]\n",
    "\n",
    "        if parents == '':\n",
    "            graph[node].append([node, float(cost)])\n",
    "        else:\n",
    "            graph[parents].append([node, float(cost)])\n",
    "\n",
    "    nodes = []\n",
    "    for key, value in graph.items():\n",
    "        if ',' not in key:\n",
    "            nodes.append(key)\n",
    "    all_cost_list = []\n",
    "    for key, value in graph.items():\n",
    "        #print(key,\"=>\", value)\n",
    "        for i in value:\n",
    "            all_cost_list.append((key, i[0], i[1]))\n",
    "    all_cost_list.sort(key=lambda x:x[2])\n",
    "    \n",
    "    \n",
    "    order = get_starter(all_cost_list) + \",\"\n",
    "    \n",
    "    return dfs(graph, all_cost_list, nodes, order)\n"
   ]
  },
  {
   "cell_type": "markdown",
   "id": "b02a705d",
   "metadata": {},
   "source": [
    "# Driver Code"
   ]
  },
  {
   "cell_type": "code",
   "execution_count": 16,
   "id": "c9e12e62",
   "metadata": {},
   "outputs": [
    {
     "name": "stdout",
     "output_type": "stream",
     "text": [
      "(['2', '4', '5', '3', '1'], 456.422)\n",
      "Wall time: 2.05 ms\n"
     ]
    }
   ],
   "source": [
    "%%time\n",
    "print(get_shortest_path_with_bfs(\"data0.txt\"))"
   ]
  },
  {
   "cell_type": "code",
   "execution_count": 17,
   "id": "be77ef65",
   "metadata": {},
   "outputs": [
    {
     "name": "stdout",
     "output_type": "stream",
     "text": [
      "(['2', '4', '5', '3', '1'], 456.422)\n",
      "Wall time: 1 ms\n"
     ]
    }
   ],
   "source": [
    "%%time\n",
    "\n",
    "print(get_shortest_path_with_ucs(\"data0.txt\"))"
   ]
  },
  {
   "cell_type": "code",
   "execution_count": 18,
   "id": "aa0413c2",
   "metadata": {},
   "outputs": [
    {
     "name": "stderr",
     "output_type": "stream",
     "text": [
      "100%|███████████████████████████████████████████████████████████████████████████████| 24/24 [00:00<00:00, 11983.73it/s]"
     ]
    },
    {
     "name": "stdout",
     "output_type": "stream",
     "text": [
      "('2,5,4,3,1', 456.102)\n",
      "Wall time: 5.96 ms\n"
     ]
    },
    {
     "name": "stderr",
     "output_type": "stream",
     "text": [
      "\n"
     ]
    }
   ],
   "source": [
    "%%time\n",
    "\n",
    "print(get_shortest_path_with_dfs(\"data0.txt\"))"
   ]
  },
  {
   "cell_type": "code",
   "execution_count": 19,
   "id": "599771fd",
   "metadata": {},
   "outputs": [
    {
     "name": "stdout",
     "output_type": "stream",
     "text": [
      "(['7', '13', '12', '16', '14', '15', '8', '17', '9', '11', '10', '6', '18', '4', '3', '2', '5', '1'], 666.018)\n",
      "Wall time: 8.05 ms\n"
     ]
    }
   ],
   "source": [
    "%%time\n",
    "\n",
    "print(get_shortest_path_with_bfs(\"data1.txt\"))"
   ]
  },
  {
   "cell_type": "code",
   "execution_count": 20,
   "id": "0e91059f",
   "metadata": {},
   "outputs": [
    {
     "name": "stdout",
     "output_type": "stream",
     "text": [
      "(['7', '13', '12', '16', '14', '15', '8', '17', '9', '11', '10', '6', '18', '4', '3', '2', '5', '1'], 666.018)\n",
      "Wall time: 9.03 ms\n"
     ]
    }
   ],
   "source": [
    "%%time\n",
    "\n",
    "print(get_shortest_path_with_ucs(\"data1.txt\"))"
   ]
  },
  {
   "cell_type": "code",
   "execution_count": null,
   "id": "e9de2229",
   "metadata": {},
   "outputs": [],
   "source": [
    "%%time\n",
    "\n",
    "print(get_shortest_path_with_dfs(\"data1.txt\"))"
   ]
  },
  {
   "cell_type": "code",
   "execution_count": null,
   "id": "4ea7e677",
   "metadata": {},
   "outputs": [],
   "source": []
  }
 ],
 "metadata": {
  "kernelspec": {
   "display_name": "Python 3",
   "language": "python",
   "name": "python3"
  },
  "language_info": {
   "codemirror_mode": {
    "name": "ipython",
    "version": 3
   },
   "file_extension": ".py",
   "mimetype": "text/x-python",
   "name": "python",
   "nbconvert_exporter": "python",
   "pygments_lexer": "ipython3",
   "version": "3.8.8"
  }
 },
 "nbformat": 4,
 "nbformat_minor": 5
}
